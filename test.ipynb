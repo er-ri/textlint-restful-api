{
 "cells": [
  {
   "cell_type": "code",
   "execution_count": 7,
   "id": "b2aeb275",
   "metadata": {},
   "outputs": [
    {
     "name": "stdout",
     "output_type": "stream",
     "text": [
      "{\"textlint\": [{\"type\": \"lint\", \"ruleId\": \"max-kanji-continuous-len\", \"message\": \"\\u6f22\\u5b57\\u304c6\\u3064\\u4ee5\\u4e0a\\u9023\\u7d9a\\u3057\\u3066\\u3044\\u307e\\u3059: \\u4e2d\\u56fd\\u4eba\\u6c11\\u5927\\u5b66\\u4ee3\\u8868\\u65e5\\u672c\", \"index\": 0, \"line\": 1, \"column\": 1, \"range\": [0, 1], \"loc\": {\"start\": {\"line\": 1, \"column\": 1}, \"end\": {\"line\": 1, \"column\": 2}}, \"severity\": 2}, {\"type\": \"lint\", \"ruleId\": \"no-dropping-the-ra\", \"message\": \"\\u3089\\u629c\\u304d\\u8a00\\u8449\\u3092\\u4f7f\\u7528\\u3057\\u3066\\u3044\\u307e\\u3059\\u3002\", \"index\": 13, \"line\": 1, \"column\": 14, \"range\": [13, 14], \"loc\": {\"start\": {\"line\": 1, \"column\": 14}, \"end\": {\"line\": 1, \"column\": 15}}, \"severity\": 2}]}\n"
     ]
    }
   ],
   "source": [
    "import json\n",
    "import urllib.request\n",
    "\n",
    "url = 'http://localhost:8081/api/textlint'\n",
    "\n",
    "# url = 'http://textlintrestfulapi-env.eba-bqupeckj.us-west-2.elasticbeanstalk.com/api/textlint'\n",
    "text = '''\n",
    "連続漢字出現六回以上、起きれない, todo, [TODO]:。\n",
    "todo:\n",
    "[TODO]\n",
    "'''.strip()\n",
    "\n",
    "data = {\"text\": text}\n",
    "headers = {\n",
    "    'Content-Type': 'application/json',\n",
    "}\n",
    "req = urllib.request.Request(url, json.dumps(data).encode(), headers)\n",
    "try:\n",
    "    with urllib.request.urlopen(req) as res:\n",
    "        body = json.load(res)\n",
    "        json_str = json.dumps(body)\n",
    "        print(json_str)\n",
    "except:\n",
    "    print(\"fail\")"
   ]
  },
  {
   "cell_type": "code",
   "execution_count": 8,
   "id": "0571b616",
   "metadata": {},
   "outputs": [
    {
     "data": {
      "text/plain": [
       "{'textlint': [{'type': 'lint',\n",
       "   'ruleId': 'max-kanji-continuous-len',\n",
       "   'message': '漢字が6つ以上連続しています: 中国人民大学代表日本',\n",
       "   'index': 0,\n",
       "   'line': 1,\n",
       "   'column': 1,\n",
       "   'range': [0, 1],\n",
       "   'loc': {'start': {'line': 1, 'column': 1}, 'end': {'line': 1, 'column': 2}},\n",
       "   'severity': 2},\n",
       "  {'type': 'lint',\n",
       "   'ruleId': 'no-dropping-the-ra',\n",
       "   'message': 'ら抜き言葉を使用しています。',\n",
       "   'index': 13,\n",
       "   'line': 1,\n",
       "   'column': 14,\n",
       "   'range': [13, 14],\n",
       "   'loc': {'start': {'line': 1, 'column': 14},\n",
       "    'end': {'line': 1, 'column': 15}},\n",
       "   'severity': 2}]}"
      ]
     },
     "execution_count": 8,
     "metadata": {},
     "output_type": "execute_result"
    }
   ],
   "source": [
    "# body['messages'][0]['message']\n",
    "body"
   ]
  },
  {
   "cell_type": "code",
   "execution_count": 5,
   "id": "5f4b9b85",
   "metadata": {},
   "outputs": [
    {
     "data": {
      "text/plain": [
       "'ら抜き言葉を使用しています。'"
      ]
     },
     "execution_count": 5,
     "metadata": {},
     "output_type": "execute_result"
    }
   ],
   "source": [
    "s = u'\\u3089\\u629c\\u304d\\u8a00\\u8449\\u3092\\u4f7f\\u7528\\u3057\\u3066\\u3044\\u307e\\u3059\\u3002'\n",
    "s"
   ]
  }
 ],
 "metadata": {
  "kernelspec": {
   "display_name": "Python 3 (ipykernel)",
   "language": "python",
   "name": "python3"
  },
  "language_info": {
   "codemirror_mode": {
    "name": "ipython",
    "version": 3
   },
   "file_extension": ".py",
   "mimetype": "text/x-python",
   "name": "python",
   "nbconvert_exporter": "python",
   "pygments_lexer": "ipython3",
   "version": "3.10.7"
  }
 },
 "nbformat": 4,
 "nbformat_minor": 5
}
